{
 "cells": [
  {
   "cell_type": "code",
   "execution_count": 14,
   "id": "1615bf48",
   "metadata": {},
   "outputs": [],
   "source": [
    "def merge(arr1, n, arr2, m) : \n",
    "    #Your code goes here\n",
    "    l=m+n\n",
    "    c=[]\n",
    "    i=0\n",
    "    j=0\n",
    "    k=0\n",
    "    while (j<n and k<m):\n",
    "        if(arr1[j]<arr2[k]):\n",
    "            c.append(arr1[j])\n",
    "#             i+=1\n",
    "            j+=1\n",
    "        else:\n",
    "            c.append(arr2[k])\n",
    "            k+=1\n",
    "#             i+=1\n",
    "            \n",
    "    while j<n:\n",
    "            c.append(arr1[j])\n",
    "#             i+=1\n",
    "            j+=1\n",
    "            \n",
    "    while k<m :\n",
    "            c.append(arr2[k])\n",
    "#             i+=1\n",
    "            k+=1\n",
    "    \n",
    "    return c"
   ]
  },
  {
   "cell_type": "code",
   "execution_count": 15,
   "id": "a3e9ccc0",
   "metadata": {},
   "outputs": [
    {
     "data": {
      "text/plain": [
       "[2, 3, 4, 4, 6, 7, 13, 25, 28]"
      ]
     },
     "execution_count": 15,
     "metadata": {},
     "output_type": "execute_result"
    }
   ],
   "source": [
    "arr1=[3,4,7]\n",
    "arr2=[2,4,6,13,25,28]\n",
    "# ans=\n",
    "merge(arr1,len(arr1),arr2,len(arr2))\n",
    "# print(ans)"
   ]
  },
  {
   "cell_type": "code",
   "execution_count": null,
   "id": "40dca4ca",
   "metadata": {},
   "outputs": [],
   "source": []
  }
 ],
 "metadata": {
  "kernelspec": {
   "display_name": "Python 3 (ipykernel)",
   "language": "python",
   "name": "python3"
  },
  "language_info": {
   "codemirror_mode": {
    "name": "ipython",
    "version": 3
   },
   "file_extension": ".py",
   "mimetype": "text/x-python",
   "name": "python",
   "nbconvert_exporter": "python",
   "pygments_lexer": "ipython3",
   "version": "3.9.7"
  }
 },
 "nbformat": 4,
 "nbformat_minor": 5
}
