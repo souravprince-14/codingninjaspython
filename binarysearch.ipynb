{
 "cells": [
  {
   "cell_type": "markdown",
   "id": "74eb7250",
   "metadata": {},
   "source": [
    "# Binary Search"
   ]
  },
  {
   "cell_type": "code",
   "execution_count": 4,
   "id": "df651946",
   "metadata": {},
   "outputs": [
    {
     "name": "stdout",
     "output_type": "stream",
     "text": [
      "1\n",
      "14 15 16 17 18 25\n",
      "14\n",
      "index is=  "
     ]
    },
    {
     "ename": "NameError",
     "evalue": "name 'binarys' is not defined",
     "output_type": "error",
     "traceback": [
      "\u001b[1;31m---------------------------------------------------------------------------\u001b[0m",
      "\u001b[1;31mNameError\u001b[0m                                 Traceback (most recent call last)",
      "\u001b[1;32m~\\AppData\\Local\\Temp/ipykernel_19180/1418904913.py\u001b[0m in \u001b[0;36m<module>\u001b[1;34m\u001b[0m\n\u001b[0;32m      5\u001b[0m     \u001b[0my\u001b[0m\u001b[1;33m=\u001b[0m\u001b[0mint\u001b[0m\u001b[1;33m(\u001b[0m\u001b[0minput\u001b[0m\u001b[1;33m(\u001b[0m\u001b[1;33m)\u001b[0m\u001b[1;33m)\u001b[0m\u001b[1;33m\u001b[0m\u001b[1;33m\u001b[0m\u001b[0m\n\u001b[0;32m      6\u001b[0m     \u001b[0mprint\u001b[0m\u001b[1;33m(\u001b[0m\u001b[1;34m\"index is= \"\u001b[0m\u001b[1;33m,\u001b[0m\u001b[0mend\u001b[0m\u001b[1;33m=\u001b[0m\u001b[1;34m\" \"\u001b[0m\u001b[1;33m)\u001b[0m\u001b[1;33m\u001b[0m\u001b[1;33m\u001b[0m\u001b[0m\n\u001b[1;32m----> 7\u001b[1;33m     \u001b[0mprint\u001b[0m\u001b[1;33m(\u001b[0m\u001b[0mbinarys\u001b[0m\u001b[1;33m(\u001b[0m\u001b[0marr\u001b[0m\u001b[1;33m,\u001b[0m\u001b[1;36m0\u001b[0m\u001b[1;33m,\u001b[0m\u001b[0ml\u001b[0m\u001b[1;33m-\u001b[0m\u001b[1;36m1\u001b[0m\u001b[1;33m,\u001b[0m\u001b[0my\u001b[0m\u001b[1;33m)\u001b[0m\u001b[1;33m)\u001b[0m\u001b[1;33m\u001b[0m\u001b[1;33m\u001b[0m\u001b[0m\n\u001b[0m\u001b[0;32m      8\u001b[0m     \u001b[0mt\u001b[0m\u001b[1;33m-=\u001b[0m\u001b[1;36m1\u001b[0m\u001b[1;33m\u001b[0m\u001b[1;33m\u001b[0m\u001b[0m\n",
      "\u001b[1;31mNameError\u001b[0m: name 'binarys' is not defined"
     ]
    }
   ],
   "source": [
    "t=int(input())\n",
    "while(t):\n",
    "    arr=[int(x) for x in input().split()]\n",
    "    l=len(arr)\n",
    "    y=int(input())\n",
    "    print(\"index is= \",end=\" \")\n",
    "    print(binarys(arr,0,l-1,y))\n",
    "    t-=1"
   ]
  },
  {
   "cell_type": "code",
   "execution_count": 7,
   "id": "976029c3",
   "metadata": {},
   "outputs": [],
   "source": [
    "def binary1(arr,low,high,z):\n",
    "    #mid=(low+high)//2\n",
    "    while(low<=high):\n",
    "        mid=(low+high)//2\n",
    "        if(arr[mid]==z):\n",
    "            return mid\n",
    "        elif(arr[mid]<z):\n",
    "            low=mid+1\n",
    "        elif(arr[mid]>z):\n",
    "            high=mid-1\n",
    "    return -1        "
   ]
  },
  {
   "cell_type": "code",
   "execution_count": 8,
   "id": "5444c030",
   "metadata": {},
   "outputs": [
    {
     "name": "stdout",
     "output_type": "stream",
     "text": [
      "1\n",
      "14 15 17 18 25\n",
      "14\n",
      "index is=  0\n"
     ]
    }
   ],
   "source": [
    "t=int(input())\n",
    "while(t):\n",
    "    arr=[int(x) for x in input().split()]\n",
    "    l=len(arr)\n",
    "    y=int(input())\n",
    "    print(\"index is= \",end=\" \")\n",
    "    print(binary1(arr,0,l-1,y))\n",
    "    t-=1"
   ]
  },
  {
   "cell_type": "code",
   "execution_count": 7,
   "id": "83711dda",
   "metadata": {},
   "outputs": [
    {
     "name": "stdout",
     "output_type": "stream",
     "text": [
      "0 0 0 0 1 1 1 1 0 0 1 0\n",
      "7\n",
      "[1, 1, 1, 1, 1]\n",
      "[1, 1, 1, 1, 1, 0, 0, 0, 0, 0, 0, 0]\n"
     ]
    }
   ],
   "source": [
    "#arr=[2,0,0,1,3,0,0]\n",
    "arr=[int(x) for x in input().split()]\n",
    "c=arr.count(0)\n",
    "print(c)\n",
    "for i in range (c):\n",
    "    arr.remove(0)\n",
    "print(arr)\n",
    "for i in range (c):\n",
    "    arr.append(0)\n",
    "print(arr)"
   ]
  },
  {
   "cell_type": "markdown",
   "id": "d09257cb",
   "metadata": {},
   "source": [
    "# Binary search (edge case)"
   ]
  },
  {
   "cell_type": "raw",
   "id": "241b0705",
   "metadata": {},
   "source": [
    "1. Finding first occurrence of the given number."
   ]
  },
  {
   "cell_type": "code",
   "execution_count": 17,
   "id": "e1659d8b",
   "metadata": {},
   "outputs": [],
   "source": [
    "def binary2(arr,x):\n",
    "    #mid=(low+high)//2\n",
    "    low=0\n",
    "    high=len(arr)-1\n",
    "    res=-1\n",
    "    \n",
    "    while(low<=high):\n",
    "        mid=(low+high)//2\n",
    "        if (arr[mid]==x):\n",
    "            res=mid\n",
    "            high=mid-1\n",
    "            \n",
    "        elif (arr[mid]<x):\n",
    "            low=mid+1\n",
    "            \n",
    "        else :\n",
    "            high=mid-1\n",
    "    return res        "
   ]
  },
  {
   "cell_type": "code",
   "execution_count": 18,
   "id": "8d3fcc73",
   "metadata": {},
   "outputs": [
    {
     "name": "stdout",
     "output_type": "stream",
     "text": [
      "Your Answer =  1\n"
     ]
    }
   ],
   "source": [
    "arr=[2, 5, 5, 5, 6, 6, 8, 9, 9, 9]\n",
    "print(\"Your Answer = \", binary2(arr,5))"
   ]
  },
  {
   "cell_type": "raw",
   "id": "412856a3",
   "metadata": {},
   "source": [
    "2. Finding the last occurrence of the given number."
   ]
  },
  {
   "cell_type": "code",
   "execution_count": 19,
   "id": "97d8afa7",
   "metadata": {},
   "outputs": [],
   "source": [
    "def binary3(arr,x):\n",
    "    #mid=(low+high)//2\n",
    "    low=0\n",
    "    high=len(arr)-1\n",
    "    res=-1\n",
    "    \n",
    "    while(low<=high):\n",
    "        mid=(low+high)//2\n",
    "        if (arr[mid]==x):\n",
    "            res=mid\n",
    "            low=mid+1\n",
    "            \n",
    "        elif (arr[mid]<x):\n",
    "            low=mid+1\n",
    "            \n",
    "        else :\n",
    "            high=mid-1\n",
    "    return res  "
   ]
  },
  {
   "cell_type": "code",
   "execution_count": 21,
   "id": "be1ae3aa",
   "metadata": {},
   "outputs": [
    {
     "name": "stdout",
     "output_type": "stream",
     "text": [
      "Your Answer =  3\n"
     ]
    }
   ],
   "source": [
    "arr=[2, 5, 5, 5, 6, 6, 8, 9, 9, 9]\n",
    "print(\"Your Answer = \", binary3(arr,5))"
   ]
  },
  {
   "cell_type": "code",
   "execution_count": null,
   "id": "a0c6eefa",
   "metadata": {},
   "outputs": [],
   "source": []
  }
 ],
 "metadata": {
  "kernelspec": {
   "display_name": "Python 3 (ipykernel)",
   "language": "python",
   "name": "python3"
  },
  "language_info": {
   "codemirror_mode": {
    "name": "ipython",
    "version": 3
   },
   "file_extension": ".py",
   "mimetype": "text/x-python",
   "name": "python",
   "nbconvert_exporter": "python",
   "pygments_lexer": "ipython3",
   "version": "3.9.7"
  }
 },
 "nbformat": 4,
 "nbformat_minor": 5
}
